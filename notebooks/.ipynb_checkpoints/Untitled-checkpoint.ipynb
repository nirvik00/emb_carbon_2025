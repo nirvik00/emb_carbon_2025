{
 "cells": [
  {
   "cell_type": "code",
   "execution_count": 1,
   "id": "df76fefa-f6ee-4986-8207-10590a48cc94",
   "metadata": {},
   "outputs": [],
   "source": [
    "import ifcopenshell.geom as geom\n",
    "import ifcopenshell.util.element\n",
    "import pymongo\n",
    "import time"
   ]
  },
  {
   "cell_type": "code",
   "execution_count": 2,
   "id": "39c81423-89be-4909-8782-69d891a7cdf0",
   "metadata": {},
   "outputs": [],
   "source": [
    "settings = geom.settings()\n",
    "settings.set(settings.USE_WORLD_COORDS, True)"
   ]
  },
  {
   "cell_type": "code",
   "execution_count": 3,
   "id": "ac5955bd-15c5-41cc-af3b-32fb10dffcaf",
   "metadata": {},
   "outputs": [],
   "source": [
    "fn = \"C:\\\\Users\\\\nsdev\\\\code\\\\web-dev\\\\aectech25\\\\backend\\\\RoofwithCLFonly.ifc\"\n",
    "model = ifcopenshell.open(fn)"
   ]
  },
  {
   "cell_type": "code",
   "execution_count": 4,
   "id": "b62a9706-3617-4588-aa32-02bfa6c10846",
   "metadata": {},
   "outputs": [],
   "source": [
    "def get_unique_elements():\n",
    "    unique_elements = []\n",
    "    unique_element_types = []\n",
    "    count = 0\n",
    "    for product in model.by_type(\"IfcProduct\"):\n",
    "        count += 1\n",
    "        x = str(product.is_a())\n",
    "        if x not in unique_element_types:\n",
    "            unique_element_types.append(x)\n",
    "        # unique_elements.append({\"element_type\": x, \"guid\": product.GlobalId})\n",
    "    print(len(unique_element_types))\n",
    "    return unique_elements, count, unique_element_types"
   ]
  },
  {
   "cell_type": "code",
   "execution_count": 5,
   "id": "567f8be7-bcd5-4a48-83a3-1ab6c83d4053",
   "metadata": {
    "scrolled": true
   },
   "outputs": [
    {
     "name": "stdout",
     "output_type": "stream",
     "text": [
      "4\n",
      "['IfcRoof', 'IfcBuilding', 'IfcBuildingStorey', 'IfcSite']\n"
     ]
    }
   ],
   "source": [
    "(unique_elements, count, unique_element_types) = get_unique_elements()\n",
    "print(unique_element_types)"
   ]
  },
  {
   "cell_type": "code",
   "execution_count": 6,
   "id": "a6c2137f-a1e0-4190-a496-776de4570bb4",
   "metadata": {},
   "outputs": [],
   "source": [
    "elem_types_in_model = ['IfcBeam', 'IfcBuildingElementProxy', 'IfcColumn', 'IfcCovering', 'IfcCurtainWall', 'IfcDoor', 'IfcMember', 'IfcPlate', 'IfcRailing', 'IfcRoof', 'IfcSlab', 'IfcStair', 'IfcStairFlight', 'IfcWall', 'IfcWallStandardCase', 'IfcWindow', 'IfcFlowFitting', 'IfcFlowSegment', 'IfcFlowTerminal', 'IfcOpeningElement', 'IfcFurnishingElement', 'IfcTransportElement', 'IfcDistributionPort', 'IfcBuilding', 'IfcBuildingStorey', 'IfcSite', 'IfcSpace']\n"
   ]
  },
  {
   "cell_type": "code",
   "execution_count": 7,
   "id": "efb346ae-919a-467b-9ef8-e48e19db1fd6",
   "metadata": {},
   "outputs": [
    {
     "name": "stdout",
     "output_type": "stream",
     "text": [
      "{'IfcBeam': 0}\n",
      "{'IfcBuildingElementProxy': 0}\n",
      "{'IfcColumn': 0}\n",
      "{'IfcCovering': 0}\n",
      "{'IfcCurtainWall': 0}\n",
      "{'IfcDoor': 0}\n",
      "{'IfcMember': 0}\n",
      "{'IfcPlate': 0}\n",
      "{'IfcRailing': 0}\n",
      "{'IfcRoof': 29}\n",
      "{'IfcSlab': 0}\n",
      "{'IfcStair': 0}\n",
      "{'IfcStairFlight': 0}\n",
      "{'IfcWall': 0}\n",
      "{'IfcWallStandardCase': 0}\n",
      "{'IfcWindow': 0}\n",
      "{'IfcFlowFitting': 0}\n",
      "{'IfcFlowSegment': 0}\n",
      "{'IfcFlowTerminal': 0}\n",
      "{'IfcOpeningElement': 0}\n",
      "{'IfcFurnishingElement': 0}\n",
      "{'IfcTransportElement': 0}\n",
      "{'IfcDistributionPort': 0}\n",
      "{'IfcBuilding': 1}\n",
      "{'IfcBuildingStorey': 2}\n",
      "{'IfcSite': 1}\n",
      "{'IfcSpace': 0}\n"
     ]
    }
   ],
   "source": [
    "element_type_map=[]\n",
    "for element_type in elem_types_in_model:\n",
    "    num_elements=0\n",
    "    for product in model.by_type(\"IfcProduct\"):\n",
    "        x = str(product.is_a())\n",
    "        if x == element_type:\n",
    "            \n",
    "            num_elements+=1\n",
    "    element_type_map.append({element_type: num_elements})\n",
    "\n",
    "for elem in element_type_map:\n",
    "    print(elem)\n",
    "    \n",
    "        \n",
    "        \n",
    "            \n"
   ]
  },
  {
   "cell_type": "markdown",
   "id": "424d5662-13d3-4e1b-9b00-81270331e605",
   "metadata": {},
   "source": [
    "<h1>props</h1>"
   ]
  },
  {
   "cell_type": "code",
   "execution_count": 8,
   "id": "02b01d07-220b-42d2-80ba-17e81746a970",
   "metadata": {},
   "outputs": [],
   "source": [
    "def get_properties_from_guid(guid: str):\n",
    "    psets = {}\n",
    "    try:\n",
    "        product = model.by_guid(guid)\n",
    "        element_type = product.is_a()\n",
    "\n",
    "        all_prop_sets = []\n",
    "        prop_sets = ifcopenshell.util.element.get_psets(product)\n",
    "        for k, v in prop_sets.items():\n",
    "            for k2, v2 in v.items():\n",
    "                psets.update({k2: v2})\n",
    "        container = ifcopenshell.util.element.get_container(product)\n",
    "        psets.update({\"level\": container.Name})\n",
    "        psets.update({\"guid\": guid})\n",
    "        psets.update({\"product_name\": product.Name})\n",
    "        psets.update({\"element_type\": element_type})\n",
    "        psets.update({\"element_type\": element_type})\n",
    "        psets.update({\"all_props\": all_prop_sets})\n",
    "    except:\n",
    "        pass\n",
    "    return psets"
   ]
  },
  {
   "cell_type": "code",
   "execution_count": 16,
   "id": "07ea4f54-f81f-4d5b-8980-47fea78e50d7",
   "metadata": {
    "scrolled": true
   },
   "outputs": [
    {
     "ename": "SyntaxError",
     "evalue": "unterminated string literal (detected at line 9) (185170896.py, line 9)",
     "output_type": "error",
     "traceback": [
      "  \u001b[36mCell\u001b[39m\u001b[36m \u001b[39m\u001b[32mIn[16]\u001b[39m\u001b[32m, line 9\u001b[39m\n\u001b[31m    \u001b[39m\u001b[31mprops = get_properties_from_guid(guid\")\u001b[39m\n                                         ^\n\u001b[31mSyntaxError\u001b[39m\u001b[31m:\u001b[39m unterminated string literal (detected at line 9)\n"
     ]
    }
   ],
   "source": [
    "element_type_map=[]\n",
    "for element_type in elem_types_in_model:\n",
    "    num_elements=0\n",
    "    for product in model.by_type(\"IfcProduct\"):\n",
    "        x = str(product.is_a())\n",
    "        if x == element_type:            \n",
    "            num_elements+=1\n",
    "        guid = get_properties_from_guid(product.GlobalId)\n",
    "        props = get_properties_from_guid(guid\")\n",
    "        print(props)\n",
    "\n",
    "for elem in element_type_map:\n",
    "    print(elem)"
   ]
  },
  {
   "cell_type": "code",
   "execution_count": 9,
   "id": "30b77021-6fb7-48c1-9899-1aa9c07bb56c",
   "metadata": {},
   "outputs": [
    {
     "name": "stdout",
     "output_type": "stream",
     "text": [
      "{}\n"
     ]
    }
   ],
   "source": [
    "count=0\n",
    "\n",
    "props = get_properties_from_guid(\"19xIVj_1zBUux4LNPcslIl\")\n",
    "print(props)\n"
   ]
  },
  {
   "cell_type": "code",
   "execution_count": 32,
   "id": "c949e4d9-db8e-4bf0-b67a-db423a8d461d",
   "metadata": {},
   "outputs": [],
   "source": [
    "def get_props():\n",
    "    for element in model.by_type(\"IfcElement\"):\n",
    "        #print(f\"\\nElement: {element.GlobalId} ({element.is_a()})\")\n",
    "        psets = ifcopenshell.util.element.get_psets(element, psets_only=True)\n",
    "        for pset_name, props in psets.items():\n",
    "            #print(f\"  Pset: {pset_name}\")\n",
    "            for prop, value in props.items():\n",
    "                #print(f\"    {prop}: {value}\")\n",
    "                if prop == \"id\" and value ==10472123:\n",
    "                    print('found data')\n",
    "    \n",
    "        # --- Method 2: Dump everything (including custom psets)\n",
    "        all_psets = ifcopenshell.util.element.get_psets(element)\n",
    "        # returns dict: { 'PsetName': {'PropName': value, ...}, 'TypeName': {...}, ... }\n",
    "        #print(\"  All properties:\", all_psets)\n",
    "\n",
    "def get_props2():\n",
    "    for element in model.by_type(\"IfcElement\"):\n",
    "        for rel in element.IsDefinedBy:\n",
    "            if rel.is_a(\"IfcRelDefinesByProperties\"):\n",
    "                pset = rel.RelatingPropertyDefinition\n",
    "                print(\"Pset:\", pset.Name)\n",
    "                for prop in pset.HasProperties:\n",
    "                    print(\" \", prop.Name, getattr(prop, \"NominalValue\", None))"
   ]
  },
  {
   "cell_type": "code",
   "execution_count": 33,
   "id": "228c78f5-cd69-4c53-98a3-e49f8f97dd23",
   "metadata": {},
   "outputs": [
    {
     "name": "stdout",
     "output_type": "stream",
     "text": [
      "Pset: Pset_QuantityTakeOff\n",
      "  Reference IfcIdentifier('')\n",
      "Pset: Pset_RoofCommon\n",
      "  Reference IfcIdentifier('')\n",
      "  IsExternal IfcBoolean(.T.)\n",
      "Pset: Pset_QuantityTakeOff\n",
      "  Reference IfcIdentifier('')\n",
      "Pset: Pset_RoofCommon\n",
      "  Reference IfcIdentifier('')\n",
      "  IsExternal IfcBoolean(.T.)\n",
      "Pset: Pset_QuantityTakeOff\n",
      "  Reference IfcIdentifier('')\n",
      "Pset: Pset_RoofCommon\n",
      "  Reference IfcIdentifier('')\n",
      "  IsExternal IfcBoolean(.T.)\n",
      "Pset: Pset_QuantityTakeOff\n",
      "  Reference IfcIdentifier('')\n",
      "Pset: Pset_RoofCommon\n",
      "  Reference IfcIdentifier('')\n",
      "  IsExternal IfcBoolean(.T.)\n",
      "Pset: Pset_QuantityTakeOff\n",
      "  Reference IfcIdentifier('')\n",
      "Pset: Pset_RoofCommon\n",
      "  Reference IfcIdentifier('')\n",
      "  IsExternal IfcBoolean(.T.)\n",
      "Pset: Pset_QuantityTakeOff\n",
      "  Reference IfcIdentifier('')\n",
      "Pset: Pset_RoofCommon\n",
      "  Reference IfcIdentifier('')\n",
      "  IsExternal IfcBoolean(.T.)\n",
      "Pset: Pset_QuantityTakeOff\n",
      "  Reference IfcIdentifier('')\n",
      "Pset: Pset_RoofCommon\n",
      "  Reference IfcIdentifier('')\n",
      "  IsExternal IfcBoolean(.T.)\n",
      "Pset: Pset_QuantityTakeOff\n",
      "  Reference IfcIdentifier('')\n",
      "Pset: Pset_RoofCommon\n",
      "  Reference IfcIdentifier('')\n",
      "  IsExternal IfcBoolean(.T.)\n",
      "Pset: Pset_QuantityTakeOff\n",
      "  Reference IfcIdentifier('')\n",
      "Pset: Pset_RoofCommon\n",
      "  Reference IfcIdentifier('')\n",
      "  IsExternal IfcBoolean(.T.)\n",
      "Pset: Pset_QuantityTakeOff\n",
      "  Reference IfcIdentifier('')\n",
      "Pset: Pset_RoofCommon\n",
      "  Reference IfcIdentifier('')\n",
      "  IsExternal IfcBoolean(.T.)\n",
      "Pset: Pset_QuantityTakeOff\n",
      "  Reference IfcIdentifier('')\n",
      "Pset: Pset_RoofCommon\n",
      "  Reference IfcIdentifier('')\n",
      "  IsExternal IfcBoolean(.T.)\n",
      "Pset: Pset_QuantityTakeOff\n",
      "  Reference IfcIdentifier('')\n",
      "Pset: Pset_RoofCommon\n",
      "  Reference IfcIdentifier('')\n",
      "  IsExternal IfcBoolean(.T.)\n",
      "Pset: Pset_QuantityTakeOff\n",
      "  Reference IfcIdentifier('')\n",
      "Pset: Pset_RoofCommon\n",
      "  Reference IfcIdentifier('')\n",
      "  IsExternal IfcBoolean(.T.)\n",
      "Pset: Pset_QuantityTakeOff\n",
      "  Reference IfcIdentifier('')\n",
      "Pset: Pset_RoofCommon\n",
      "  Reference IfcIdentifier('')\n",
      "  IsExternal IfcBoolean(.T.)\n",
      "Pset: Pset_QuantityTakeOff\n",
      "  Reference IfcIdentifier('')\n",
      "Pset: Pset_RoofCommon\n",
      "  Reference IfcIdentifier('')\n",
      "  IsExternal IfcBoolean(.T.)\n",
      "Pset: Pset_QuantityTakeOff\n",
      "  Reference IfcIdentifier('')\n",
      "Pset: Pset_RoofCommon\n",
      "  Reference IfcIdentifier('')\n",
      "  IsExternal IfcBoolean(.T.)\n",
      "Pset: Pset_QuantityTakeOff\n",
      "  Reference IfcIdentifier('')\n",
      "Pset: Pset_RoofCommon\n",
      "  Reference IfcIdentifier('')\n",
      "  IsExternal IfcBoolean(.T.)\n",
      "Pset: Pset_QuantityTakeOff\n",
      "  Reference IfcIdentifier('')\n",
      "Pset: Pset_RoofCommon\n",
      "  Reference IfcIdentifier('')\n",
      "  IsExternal IfcBoolean(.T.)\n",
      "Pset: Pset_QuantityTakeOff\n",
      "  Reference IfcIdentifier('')\n",
      "Pset: Pset_RoofCommon\n",
      "  Reference IfcIdentifier('')\n",
      "  IsExternal IfcBoolean(.T.)\n",
      "Pset: Pset_QuantityTakeOff\n",
      "  Reference IfcIdentifier('')\n",
      "Pset: Pset_RoofCommon\n",
      "  Reference IfcIdentifier('')\n",
      "  IsExternal IfcBoolean(.T.)\n",
      "Pset: Pset_QuantityTakeOff\n",
      "  Reference IfcIdentifier('')\n",
      "Pset: Pset_RoofCommon\n",
      "  Reference IfcIdentifier('')\n",
      "  IsExternal IfcBoolean(.T.)\n",
      "Pset: Pset_QuantityTakeOff\n",
      "  Reference IfcIdentifier('')\n",
      "Pset: Pset_RoofCommon\n",
      "  Reference IfcIdentifier('')\n",
      "  IsExternal IfcBoolean(.T.)\n",
      "Pset: Pset_QuantityTakeOff\n",
      "  Reference IfcIdentifier('')\n",
      "Pset: Pset_RoofCommon\n",
      "  Reference IfcIdentifier('')\n",
      "  IsExternal IfcBoolean(.T.)\n",
      "Pset: Pset_QuantityTakeOff\n",
      "  Reference IfcIdentifier('')\n",
      "Pset: Pset_RoofCommon\n",
      "  Reference IfcIdentifier('')\n",
      "  IsExternal IfcBoolean(.T.)\n",
      "Pset: Pset_QuantityTakeOff\n",
      "  Reference IfcIdentifier('')\n",
      "Pset: Pset_RoofCommon\n",
      "  Reference IfcIdentifier('')\n",
      "  IsExternal IfcBoolean(.T.)\n",
      "Pset: Pset_QuantityTakeOff\n",
      "  Reference IfcIdentifier('')\n",
      "Pset: Pset_RoofCommon\n",
      "  Reference IfcIdentifier('')\n",
      "  IsExternal IfcBoolean(.T.)\n",
      "Pset: Pset_QuantityTakeOff\n",
      "  Reference IfcIdentifier('')\n",
      "Pset: Pset_RoofCommon\n",
      "  Reference IfcIdentifier('')\n",
      "  IsExternal IfcBoolean(.T.)\n",
      "Pset: Pset_QuantityTakeOff\n",
      "  Reference IfcIdentifier('')\n",
      "Pset: Pset_RoofCommon\n",
      "  Reference IfcIdentifier('')\n",
      "  IsExternal IfcBoolean(.T.)\n",
      "Pset: Pset_QuantityTakeOff\n",
      "  Reference IfcIdentifier('')\n",
      "Pset: Pset_RoofCommon\n",
      "  Reference IfcIdentifier('')\n",
      "  IsExternal IfcBoolean(.T.)\n"
     ]
    }
   ],
   "source": [
    "get_props2()"
   ]
  },
  {
   "cell_type": "code",
   "execution_count": null,
   "id": "044c48db-d37b-498b-8d07-6019bb799f92",
   "metadata": {},
   "outputs": [],
   "source": []
  },
  {
   "cell_type": "code",
   "execution_count": null,
   "id": "072ccbef-8f85-4cb6-8e94-408f7142c483",
   "metadata": {},
   "outputs": [],
   "source": []
  }
 ],
 "metadata": {
  "kernelspec": {
   "display_name": "Python 3 (ipykernel)",
   "language": "python",
   "name": "python3"
  },
  "language_info": {
   "codemirror_mode": {
    "name": "ipython",
    "version": 3
   },
   "file_extension": ".py",
   "mimetype": "text/x-python",
   "name": "python",
   "nbconvert_exporter": "python",
   "pygments_lexer": "ipython3",
   "version": "3.12.3"
  }
 },
 "nbformat": 4,
 "nbformat_minor": 5
}
