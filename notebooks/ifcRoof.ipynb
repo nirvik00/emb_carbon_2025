{
 "cells": [
  {
   "cell_type": "raw",
   "id": "f6c3c355-6df5-463f-96de-6cf690fa6548",
   "metadata": {},
   "source": [
    "import ifcopenshell.geom as geom\n",
    "import ifcopenshell.util.element\n",
    "import pymongo\n",
    "import time\n",
    "\n",
    "settings = geom.settings()\n",
    "settings.set(settings.USE_WORLD_COORDS, True)\n",
    "\n"
   ]
  },
  {
   "cell_type": "raw",
   "id": "8b369a0b-0345-4704-adf7-7381c0b9d5e6",
   "metadata": {},
   "source": [
    "fn = \"C:\\\\Users\\\\nsdev\\\\code\\\\web-dev\\\\aectech25\\\\backend\\\\RoofwithCLFonly.ifc\"\n",
    "model = ifcopenshell.open(fn)"
   ]
  },
  {
   "cell_type": "code",
   "execution_count": 2,
   "id": "7f9caa19-fce3-4f16-a558-4a66c5a7a8f1",
   "metadata": {
    "scrolled": true
   },
   "outputs": [],
   "source": [
    "import ifcopenshell\n",
    "import ifcopenshell.util.element\n",
    "import json\n",
    "\n",
    "def get_flat_properties(element):\n",
    "    \"\"\"\n",
    "    Returns a flat dict of all properties for a given IFC element.\n",
    "    \"\"\"\n",
    "    flat_props = {}\n",
    "    psets = ifcopenshell.util.element.get_psets(element)\n",
    "\n",
    "    for pset_name, props in psets.items():\n",
    "        if isinstance(props, dict):\n",
    "            # normal property set\n",
    "            for prop, value in props.items():\n",
    "                key = f\"{pset_name}.{prop}\"\n",
    "                flat_props[key] = str(value)  # cast to str for JSON compatibility\n",
    "        else:\n",
    "            # sometimes psets may not be dicts, handle safely\n",
    "            flat_props[pset_name] = str(props)\n",
    "\n",
    "    return flat_props\n",
    "\n",
    "\n",
    "# --- Load IFC file\n",
    "fn = \"C:\\\\Users\\\\nsdev\\\\code\\\\web-dev\\\\aectech25\\\\backend\\\\RoofwithCLFonly.ifc\"\n",
    "ifc_file = ifcopenshell.open(fn)\n",
    "\n",
    "# --- Collect properties for all IfcRoof instances\n",
    "roofs_data = []\n",
    "\n",
    "for roof in ifc_file.by_type(\"IfcRoof\"):\n",
    "    roof_data = {\n",
    "        \"GlobalId\": roof.GlobalId,\n",
    "        \"Type\": roof.is_a(),\n",
    "        \"Properties\": get_flat_properties(roof)\n",
    "    }\n",
    "    roofs_data.append(roof_data)\n",
    "\n",
    "# --- Export as JSON\n",
    "json_output = json.dumps(roofs_data, indent=2)\n",
    "# print(json_output)\n",
    "\n",
    "# Optionally save to file\n",
    "with open(\"ifc_roof_properties.json\", \"w\") as f:\n",
    "    f.write(json_output)\n"
   ]
  },
  {
   "cell_type": "code",
   "execution_count": null,
   "id": "0d580ae4-55f2-4313-87cc-675cb50ed1c2",
   "metadata": {},
   "outputs": [],
   "source": []
  }
 ],
 "metadata": {
  "kernelspec": {
   "display_name": "Python 3 (ipykernel)",
   "language": "python",
   "name": "python3"
  },
  "language_info": {
   "codemirror_mode": {
    "name": "ipython",
    "version": 3
   },
   "file_extension": ".py",
   "mimetype": "text/x-python",
   "name": "python",
   "nbconvert_exporter": "python",
   "pygments_lexer": "ipython3",
   "version": "3.12.3"
  }
 },
 "nbformat": 4,
 "nbformat_minor": 5
}
